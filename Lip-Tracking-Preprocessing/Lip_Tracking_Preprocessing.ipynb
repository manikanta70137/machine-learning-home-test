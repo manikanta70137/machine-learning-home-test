{
  "nbformat": 4,
  "nbformat_minor": 0,
  "metadata": {
    "colab": {
      "provenance": [],
      "authorship_tag": "ABX9TyNaEY9RRwi4C19r9hRnT+/H",
      "include_colab_link": true
    },
    "kernelspec": {
      "name": "python3",
      "display_name": "Python 3"
    },
    "language_info": {
      "name": "python"
    }
  },
  "cells": [
    {
      "cell_type": "markdown",
      "metadata": {
        "id": "view-in-github",
        "colab_type": "text"
      },
      "source": [
        "<a href=\"https://colab.research.google.com/github/manikanta70137/machine-learning-home-test/blob/main/Lip_Tracking_Preprocessing.ipynb\" target=\"_parent\"><img src=\"https://colab.research.google.com/assets/colab-badge.svg\" alt=\"Open In Colab\"/></a>"
      ]
    },
    {
      "cell_type": "code",
      "execution_count": 10,
      "metadata": {
        "colab": {
          "base_uri": "https://localhost:8080/",
          "height": 437
        },
        "id": "RymU2vTu-8oh",
        "outputId": "91da0882-297b-4556-a4f3-8092673f190a"
      },
      "outputs": [
        {
          "output_type": "stream",
          "name": "stdout",
          "text": [
            "Requirement already satisfied: moviepy in /usr/local/lib/python3.12/dist-packages (1.0.3)\n",
            "Requirement already satisfied: speechrecognition in /usr/local/lib/python3.12/dist-packages (3.14.3)\n",
            "Requirement already satisfied: pydub in /usr/local/lib/python3.12/dist-packages (0.25.1)\n",
            "Requirement already satisfied: decorator<5.0,>=4.0.2 in /usr/local/lib/python3.12/dist-packages (from moviepy) (4.4.2)\n",
            "Requirement already satisfied: tqdm<5.0,>=4.11.2 in /usr/local/lib/python3.12/dist-packages (from moviepy) (4.67.1)\n",
            "Requirement already satisfied: requests<3.0,>=2.8.1 in /usr/local/lib/python3.12/dist-packages (from moviepy) (2.32.4)\n",
            "Requirement already satisfied: proglog<=1.0.0 in /usr/local/lib/python3.12/dist-packages (from moviepy) (0.1.12)\n",
            "Requirement already satisfied: numpy>=1.17.3 in /usr/local/lib/python3.12/dist-packages (from moviepy) (2.0.2)\n",
            "Requirement already satisfied: imageio<3.0,>=2.5 in /usr/local/lib/python3.12/dist-packages (from moviepy) (2.37.0)\n",
            "Requirement already satisfied: imageio-ffmpeg>=0.2.0 in /usr/local/lib/python3.12/dist-packages (from moviepy) (0.6.0)\n",
            "Requirement already satisfied: typing-extensions in /usr/local/lib/python3.12/dist-packages (from speechrecognition) (4.15.0)\n",
            "Requirement already satisfied: pillow>=8.3.2 in /usr/local/lib/python3.12/dist-packages (from imageio<3.0,>=2.5->moviepy) (11.3.0)\n",
            "Requirement already satisfied: charset_normalizer<4,>=2 in /usr/local/lib/python3.12/dist-packages (from requests<3.0,>=2.8.1->moviepy) (3.4.3)\n",
            "Requirement already satisfied: idna<4,>=2.5 in /usr/local/lib/python3.12/dist-packages (from requests<3.0,>=2.8.1->moviepy) (3.10)\n",
            "Requirement already satisfied: urllib3<3,>=1.21.1 in /usr/local/lib/python3.12/dist-packages (from requests<3.0,>=2.8.1->moviepy) (2.5.0)\n",
            "Requirement already satisfied: certifi>=2017.4.17 in /usr/local/lib/python3.12/dist-packages (from requests<3.0,>=2.8.1->moviepy) (2025.10.5)\n",
            "Extracting speech from video...\n",
            "✅ Transcription successful!\n",
            "\n",
            "📝 What was said in the video:\n",
            "==================================================\n",
            "\"dim blue F2 now\"\n"
          ]
        },
        {
          "output_type": "execute_result",
          "data": {
            "text/plain": [
              "'dim blue F2 now'"
            ],
            "application/vnd.google.colaboratory.intrinsic+json": {
              "type": "string"
            }
          },
          "metadata": {},
          "execution_count": 10
        }
      ],
      "source": [
        "!pip install moviepy speechrecognition pydub\n",
        "\n",
        "from moviepy.editor import VideoFileClip\n",
        "import speech_recognition as sr\n",
        "import os\n",
        "\n",
        "def extract_speech_simple(video_path):\n",
        "    \"\"\"Simple function to extract speech from video\"\"\"\n",
        "    print(\"Extracting speech from video...\")\n",
        "\n",
        "    # Extract audio from video\n",
        "    video = VideoFileClip(video_path)\n",
        "    audio_path = \"temp_audio.wav\"\n",
        "    video.audio.write_audiofile(audio_path, verbose=False, logger=None)\n",
        "    video.close()\n",
        "\n",
        "    # Initialize recognizer\n",
        "    r = sr.Recognizer()\n",
        "\n",
        "    # Recognize speech\n",
        "    with sr.AudioFile(audio_path) as source:\n",
        "        audio = r.record(source)\n",
        "\n",
        "        try:\n",
        "            text = r.recognize_google(audio)\n",
        "            print(\"✅ Transcription successful!\")\n",
        "            print(f\"\\n📝 What was said in the video:\")\n",
        "            print(\"=\" * 50)\n",
        "            print(f\"\\\"{text}\\\"\")\n",
        "            return text\n",
        "        except sr.UnknownValueError:\n",
        "            print(\"❌ Google Speech Recognition could not understand audio\")\n",
        "            return None\n",
        "        except sr.RequestError as e:\n",
        "            print(f\"❌ Could not request results from Google Speech Recognition service; {e}\")\n",
        "            return None\n",
        "        finally:\n",
        "            # Clean up\n",
        "            if os.path.exists(audio_path):\n",
        "                os.remove(audio_path)\n",
        "\n",
        "# Usage\n",
        "video_path = \"/content/bbaf2n.mpg\"  # Your video file\n",
        "extract_speech_simple(video_path)"
      ]
    },
    {
      "cell_type": "code",
      "source": [],
      "metadata": {
        "id": "4vAowrq6FL7h"
      },
      "execution_count": null,
      "outputs": []
    }
  ]
}